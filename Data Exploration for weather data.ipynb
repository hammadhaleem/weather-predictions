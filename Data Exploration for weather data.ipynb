{
 "cells": [
  {
   "cell_type": "code",
   "execution_count": 1,
   "metadata": {
    "collapsed": false,
    "scrolled": true
   },
   "outputs": [],
   "source": [
    "%matplotlib inline\n",
    "from sklearn import datasets, linear_model\n",
    "import matplotlib.pyplot as plt\n",
    "import re\n",
    "import seaborn as sns\n",
    "\n",
    "import pandas as pd\n",
    "import numpy as np\n",
    "import datetime\n",
    "import pandas as pd\n",
    "import timeit\n",
    "\n",
    "from sklearn.neural_network import MLPRegressor \n",
    "from sklearn.model_selection import train_test_split\n",
    "from sklearn.preprocessing import StandardScaler"
   ]
  },
  {
   "cell_type": "code",
   "execution_count": 2,
   "metadata": {
    "collapsed": false
   },
   "outputs": [],
   "source": [
    "df_airquality = pd.DataFrame.from_csv('data/airquality.csv')\n",
    "df_district = pd.DataFrame.from_csv('data/district.csv')\n",
    "df_meteorology = pd.DataFrame.from_csv('data/meteorology.csv')\n",
    "df_station = pd.DataFrame.from_csv('data/station.csv')\n",
    "df_weatherforecast = pd.DataFrame.from_csv('data/weatherforecast.csv')"
   ]
  },
  {
   "cell_type": "code",
   "execution_count": 3,
   "metadata": {
    "collapsed": false,
    "scrolled": false
   },
   "outputs": [],
   "source": [
    "final_df = df_airquality.join(df_station)\n",
    "final_df = final_df.reset_index()\n",
    "final_df['station_id'] = final_df['\\ufeffstation_id']\n",
    "final_df = final_df.drop('\\ufeffstation_id',1)\n",
    "final_df = final_df.join(df_district, on=['district_id'],rsuffix='_district')"
   ]
  },
  {
   "cell_type": "code",
   "execution_count": 4,
   "metadata": {
    "collapsed": false
   },
   "outputs": [],
   "source": [
    "df_city = pd.DataFrame.from_csv('data/city.csv')\n",
    "df_city = df_city.reset_index()\n",
    "\n",
    "df_city['city_id'] = df_city['\\ufeffcity_id']\n",
    "df_city['latitude_city']= df_city['longitude']\n",
    "df_city['longitude_city']= df_city['longitude']\n",
    "\n",
    "df_city = df_city.drop('latitude',1)\n",
    "df_city = df_city.drop('longitude',1)\n",
    "\n",
    "df_city = df_city.drop('\\ufeffcity_id',1)\n",
    "df_city['city_id'] = df_city.city_id.apply(lambda x : int(x))\n",
    "final_df = pd.merge(final_df, right=df_city,on=['city_id'],how='left')"
   ]
  },
  {
   "cell_type": "code",
   "execution_count": 5,
   "metadata": {
    "collapsed": false
   },
   "outputs": [],
   "source": [
    "final_df = final_df.drop('name_chinese_x',1)\n",
    "final_df = final_df.drop('name_chinese_district',1)\n",
    "final_df = final_df.drop('name_chinese_y',1)\n",
    "final_df = final_df.drop('name_english_y',1)"
   ]
  },
  {
   "cell_type": "code",
   "execution_count": 6,
   "metadata": {
    "collapsed": false
   },
   "outputs": [],
   "source": [
    "df_meteorology = df_meteorology.reset_index()\n",
    "df_meteorology['id'] = df_meteorology['\\ufeffid']\n",
    "df_meteorology = df_meteorology.drop('\\ufeffid',1)\n"
   ]
  },
  {
   "cell_type": "code",
   "execution_count": 7,
   "metadata": {
    "collapsed": false
   },
   "outputs": [],
   "source": [
    "df_meteorology['district_id'] = df_meteorology['id']\n",
    "df_meteorology = df_meteorology.drop('id',1)\n",
    "final_df = pd.merge(final_df, right=df_meteorology,on=['district_id','time'],how='outer')"
   ]
  },
  {
   "cell_type": "code",
   "execution_count": 8,
   "metadata": {
    "collapsed": false
   },
   "outputs": [],
   "source": [
    "final_df['latitude_city']  = final_df['latitude_city'].apply(lambda x : str(x))\n",
    "final_df['longitude_city']  = final_df['longitude_city'].apply(lambda x : str(x))\n",
    "\n",
    "final_df['latitude']  = final_df['latitude'].apply(lambda x : str(x))\n",
    "final_df['longitude']  = final_df['longitude'].apply(lambda x : str(x))\n",
    "\n",
    "final_df['lat-lon-city'] = final_df['latitude_city'] + ' ' + final_df['longitude_city']\n",
    "final_df['lat-lon-district'] = final_df['latitude'] + ' ' + final_df['longitude']\n",
    "\n",
    "final_df = final_df.drop('latitude_city',1)\n",
    "final_df = final_df.drop('longitude_city',1)\n",
    "\n",
    "final_df = final_df.drop('latitude',1)\n",
    "final_df = final_df.drop('longitude',1)"
   ]
  },
  {
   "cell_type": "code",
   "execution_count": 9,
   "metadata": {
    "collapsed": false
   },
   "outputs": [],
   "source": [
    "final_df['time'] = final_df.time.apply(lambda x : datetime.datetime.strptime(str(x),'%Y-%m-%d %H:%M:%S'))\n",
    "\n",
    "final_df['year']    = final_df['time'].apply(lambda x : x.year)\n",
    "final_df['month']   = final_df['time'].apply(lambda x : x.month)\n",
    "final_df['day']     = final_df['time'].apply(lambda x : x.day)\n",
    "final_df['hour']    = final_df['time'].apply(lambda x : x.hour)\n",
    "\n",
    "final_df = final_df.drop('time',1)"
   ]
  },
  {
   "cell_type": "code",
   "execution_count": 10,
   "metadata": {
    "collapsed": false
   },
   "outputs": [
    {
     "name": "stdout",
     "output_type": "stream",
     "text": [
      "<class 'pandas.core.frame.DataFrame'>\n",
      "Int64Index: 3923229 entries, 0 to 3923228\n",
      "Data columns (total 24 columns):\n",
      "PM25_Concentration       float64\n",
      "PM10_Concentration       float64\n",
      "NO2_Concentration        float64\n",
      "CO_Concentration         float64\n",
      "O3_Concentration         float64\n",
      "SO2_Concentration        float64\n",
      "name_english_x           object\n",
      "district_id              float64\n",
      "station_id               float64\n",
      "name_english_district    object\n",
      "city_id                  float64\n",
      "cluster_id               float64\n",
      "weather                  float64\n",
      "temperature              float64\n",
      "pressure                 float64\n",
      "humidity                 float64\n",
      "wind_speed               float64\n",
      "wind_direction           float64\n",
      "lat-lon-city             object\n",
      "lat-lon-district         object\n",
      "year                     int64\n",
      "month                    int64\n",
      "day                      int64\n",
      "hour                     int64\n",
      "dtypes: float64(16), int64(4), object(4)\n",
      "memory usage: 748.3+ MB\n"
     ]
    }
   ],
   "source": [
    "final_df.info()"
   ]
  },
  {
   "cell_type": "code",
   "execution_count": 11,
   "metadata": {
    "collapsed": false
   },
   "outputs": [],
   "source": [
    "# Save it to a temporary data frame \n",
    "final_df.to_csv('data/final_dataframe.csv')"
   ]
  },
  {
   "cell_type": "code",
   "execution_count": 12,
   "metadata": {
    "collapsed": false
   },
   "outputs": [],
   "source": [
    "# final_df = pd.DataFrame.from_csv('data/final_dataframe.csv')"
   ]
  },
  {
   "cell_type": "code",
   "execution_count": 13,
   "metadata": {
    "collapsed": false
   },
   "outputs": [
    {
     "data": {
      "text/plain": [
       "Index(['PM25_Concentration', 'PM10_Concentration', 'NO2_Concentration',\n",
       "       'CO_Concentration', 'O3_Concentration', 'SO2_Concentration',\n",
       "       'name_english_x', 'district_id', 'station_id', 'name_english_district',\n",
       "       'city_id', 'cluster_id', 'weather', 'temperature', 'pressure',\n",
       "       'humidity', 'wind_speed', 'wind_direction', 'lat-lon-city',\n",
       "       'lat-lon-district', 'year', 'month', 'day', 'hour'],\n",
       "      dtype='object')"
      ]
     },
     "execution_count": 13,
     "metadata": {},
     "output_type": "execute_result"
    }
   ],
   "source": [
    "final_df.columns"
   ]
  },
  {
   "cell_type": "code",
   "execution_count": 14,
   "metadata": {
    "collapsed": false,
    "scrolled": true
   },
   "outputs": [
    {
     "data": {
      "text/html": [
       "<div>\n",
       "<table border=\"1\" class=\"dataframe\">\n",
       "  <thead>\n",
       "    <tr style=\"text-align: right;\">\n",
       "      <th></th>\n",
       "      <th>PM25_Concentration</th>\n",
       "      <th>PM10_Concentration</th>\n",
       "      <th>NO2_Concentration</th>\n",
       "      <th>CO_Concentration</th>\n",
       "      <th>O3_Concentration</th>\n",
       "      <th>SO2_Concentration</th>\n",
       "      <th>name_english_x</th>\n",
       "      <th>district_id</th>\n",
       "      <th>station_id</th>\n",
       "      <th>name_english_district</th>\n",
       "      <th>...</th>\n",
       "      <th>pressure</th>\n",
       "      <th>humidity</th>\n",
       "      <th>wind_speed</th>\n",
       "      <th>wind_direction</th>\n",
       "      <th>lat-lon-city</th>\n",
       "      <th>lat-lon-district</th>\n",
       "      <th>year</th>\n",
       "      <th>month</th>\n",
       "      <th>day</th>\n",
       "      <th>hour</th>\n",
       "    </tr>\n",
       "  </thead>\n",
       "  <tbody>\n",
       "    <tr>\n",
       "      <th>0</th>\n",
       "      <td>138.0</td>\n",
       "      <td>159.4</td>\n",
       "      <td>56.3</td>\n",
       "      <td>0.9</td>\n",
       "      <td>50.8</td>\n",
       "      <td>17.2</td>\n",
       "      <td>HaiDianBeiBuXinQu</td>\n",
       "      <td>101.0</td>\n",
       "      <td>1001.0</td>\n",
       "      <td>HaiDianQu</td>\n",
       "      <td>...</td>\n",
       "      <td>1004.0</td>\n",
       "      <td>56.0</td>\n",
       "      <td>7.92</td>\n",
       "      <td>13.0</td>\n",
       "      <td>116.407394 116.407394</td>\n",
       "      <td>40.090678999999994 116.173553</td>\n",
       "      <td>2014</td>\n",
       "      <td>5</td>\n",
       "      <td>1</td>\n",
       "      <td>0</td>\n",
       "    </tr>\n",
       "    <tr>\n",
       "      <th>1</th>\n",
       "      <td>89.0</td>\n",
       "      <td>132.9</td>\n",
       "      <td>30.5</td>\n",
       "      <td>0.8</td>\n",
       "      <td>96.5</td>\n",
       "      <td>7.6</td>\n",
       "      <td>HaiDianBeiJingZhiWuYuan</td>\n",
       "      <td>101.0</td>\n",
       "      <td>1002.0</td>\n",
       "      <td>HaiDianQu</td>\n",
       "      <td>...</td>\n",
       "      <td>1004.0</td>\n",
       "      <td>56.0</td>\n",
       "      <td>7.92</td>\n",
       "      <td>13.0</td>\n",
       "      <td>116.407394 116.407394</td>\n",
       "      <td>40.00395 116.20531000000001</td>\n",
       "      <td>2014</td>\n",
       "      <td>5</td>\n",
       "      <td>1</td>\n",
       "      <td>0</td>\n",
       "    </tr>\n",
       "    <tr>\n",
       "      <th>2</th>\n",
       "      <td>87.0</td>\n",
       "      <td>165.3</td>\n",
       "      <td>78.9</td>\n",
       "      <td>0.8</td>\n",
       "      <td>67.4</td>\n",
       "      <td>16.3</td>\n",
       "      <td>HaiDianWanLiu</td>\n",
       "      <td>101.0</td>\n",
       "      <td>1006.0</td>\n",
       "      <td>HaiDianQu</td>\n",
       "      <td>...</td>\n",
       "      <td>1004.0</td>\n",
       "      <td>56.0</td>\n",
       "      <td>7.92</td>\n",
       "      <td>13.0</td>\n",
       "      <td>116.407394 116.407394</td>\n",
       "      <td>39.987313 116.287451</td>\n",
       "      <td>2014</td>\n",
       "      <td>5</td>\n",
       "      <td>1</td>\n",
       "      <td>0</td>\n",
       "    </tr>\n",
       "    <tr>\n",
       "      <th>3</th>\n",
       "      <td>91.0</td>\n",
       "      <td>162.2</td>\n",
       "      <td>97.0</td>\n",
       "      <td>0.9</td>\n",
       "      <td>58.6</td>\n",
       "      <td>28.6</td>\n",
       "      <td>XiZhiMenBeiDaJie</td>\n",
       "      <td>101.0</td>\n",
       "      <td>1008.0</td>\n",
       "      <td>HaiDianQu</td>\n",
       "      <td>...</td>\n",
       "      <td>1004.0</td>\n",
       "      <td>56.0</td>\n",
       "      <td>7.92</td>\n",
       "      <td>13.0</td>\n",
       "      <td>116.407394 116.407394</td>\n",
       "      <td>39.954046999999996 116.348991</td>\n",
       "      <td>2014</td>\n",
       "      <td>5</td>\n",
       "      <td>1</td>\n",
       "      <td>0</td>\n",
       "    </tr>\n",
       "    <tr>\n",
       "      <th>4</th>\n",
       "      <td>124.0</td>\n",
       "      <td>163.9</td>\n",
       "      <td>38.7</td>\n",
       "      <td>0.9</td>\n",
       "      <td>51.1</td>\n",
       "      <td>17.9</td>\n",
       "      <td>HaiDianBeiBuXinQu</td>\n",
       "      <td>101.0</td>\n",
       "      <td>1001.0</td>\n",
       "      <td>HaiDianQu</td>\n",
       "      <td>...</td>\n",
       "      <td>1004.0</td>\n",
       "      <td>64.0</td>\n",
       "      <td>7.56</td>\n",
       "      <td>13.0</td>\n",
       "      <td>116.407394 116.407394</td>\n",
       "      <td>40.090678999999994 116.173553</td>\n",
       "      <td>2014</td>\n",
       "      <td>5</td>\n",
       "      <td>1</td>\n",
       "      <td>1</td>\n",
       "    </tr>\n",
       "  </tbody>\n",
       "</table>\n",
       "<p>5 rows × 24 columns</p>\n",
       "</div>"
      ],
      "text/plain": [
       "   PM25_Concentration  PM10_Concentration  NO2_Concentration  \\\n",
       "0               138.0               159.4               56.3   \n",
       "1                89.0               132.9               30.5   \n",
       "2                87.0               165.3               78.9   \n",
       "3                91.0               162.2               97.0   \n",
       "4               124.0               163.9               38.7   \n",
       "\n",
       "   CO_Concentration  O3_Concentration  SO2_Concentration  \\\n",
       "0               0.9              50.8               17.2   \n",
       "1               0.8              96.5                7.6   \n",
       "2               0.8              67.4               16.3   \n",
       "3               0.9              58.6               28.6   \n",
       "4               0.9              51.1               17.9   \n",
       "\n",
       "            name_english_x  district_id  station_id name_english_district  \\\n",
       "0        HaiDianBeiBuXinQu        101.0      1001.0             HaiDianQu   \n",
       "1  HaiDianBeiJingZhiWuYuan        101.0      1002.0             HaiDianQu   \n",
       "2            HaiDianWanLiu        101.0      1006.0             HaiDianQu   \n",
       "3         XiZhiMenBeiDaJie        101.0      1008.0             HaiDianQu   \n",
       "4        HaiDianBeiBuXinQu        101.0      1001.0             HaiDianQu   \n",
       "\n",
       "  ...   pressure  humidity  wind_speed  wind_direction           lat-lon-city  \\\n",
       "0 ...     1004.0      56.0        7.92            13.0  116.407394 116.407394   \n",
       "1 ...     1004.0      56.0        7.92            13.0  116.407394 116.407394   \n",
       "2 ...     1004.0      56.0        7.92            13.0  116.407394 116.407394   \n",
       "3 ...     1004.0      56.0        7.92            13.0  116.407394 116.407394   \n",
       "4 ...     1004.0      64.0        7.56            13.0  116.407394 116.407394   \n",
       "\n",
       "                lat-lon-district  year  month day hour  \n",
       "0  40.090678999999994 116.173553  2014      5   1    0  \n",
       "1    40.00395 116.20531000000001  2014      5   1    0  \n",
       "2           39.987313 116.287451  2014      5   1    0  \n",
       "3  39.954046999999996 116.348991  2014      5   1    0  \n",
       "4  40.090678999999994 116.173553  2014      5   1    1  \n",
       "\n",
       "[5 rows x 24 columns]"
      ]
     },
     "execution_count": 14,
     "metadata": {},
     "output_type": "execute_result"
    }
   ],
   "source": [
    "final_df.head()"
   ]
  },
  {
   "cell_type": "code",
   "execution_count": null,
   "metadata": {
    "collapsed": false,
    "scrolled": false
   },
   "outputs": [],
   "source": []
  },
  {
   "cell_type": "code",
   "execution_count": 15,
   "metadata": {
    "collapsed": false
   },
   "outputs": [],
   "source": [
    "train_x_numerical = [ 'year', 'month', 'day', 'hour' , 'district_id', 'city_id']\n",
    "train_x_string = ['name_english_x', 'lat-lon-city', 'lat-lon-district',  'name_english_district', ]           \n",
    "train_x_weather = ['weather', 'temperature', 'pressure', 'humidity','wind_speed', 'wind_direction']\n",
    "\n",
    "train_columns = []\n",
    "train_columns.extend(train_x_numerical)\n",
    "train_columns.extend(train_x_weather)\n",
    "\n",
    "train_y_pollution = ['PM25_Concentration', 'PM10_Concentration', 'NO2_Concentration', 'CO_Concentration', 'O3_Concentration', 'SO2_Concentration']\n"
   ]
  },
  {
   "cell_type": "code",
   "execution_count": 16,
   "metadata": {
    "collapsed": false
   },
   "outputs": [
    {
     "data": {
      "text/html": [
       "<div>\n",
       "<table border=\"1\" class=\"dataframe\">\n",
       "  <thead>\n",
       "    <tr style=\"text-align: right;\">\n",
       "      <th></th>\n",
       "      <th>year</th>\n",
       "      <th>month</th>\n",
       "      <th>day</th>\n",
       "      <th>hour</th>\n",
       "      <th>district_id</th>\n",
       "      <th>city_id</th>\n",
       "      <th>weather</th>\n",
       "      <th>temperature</th>\n",
       "      <th>pressure</th>\n",
       "      <th>humidity</th>\n",
       "      <th>wind_speed</th>\n",
       "      <th>wind_direction</th>\n",
       "    </tr>\n",
       "  </thead>\n",
       "  <tbody>\n",
       "    <tr>\n",
       "      <th>567</th>\n",
       "      <td>2014</td>\n",
       "      <td>5</td>\n",
       "      <td>8</td>\n",
       "      <td>23</td>\n",
       "      <td>101.0</td>\n",
       "      <td>1.0</td>\n",
       "      <td>NaN</td>\n",
       "      <td>17.0</td>\n",
       "      <td>1010.0</td>\n",
       "      <td>0.0</td>\n",
       "      <td>5.76</td>\n",
       "      <td>13.0</td>\n",
       "    </tr>\n",
       "    <tr>\n",
       "      <th>568</th>\n",
       "      <td>2014</td>\n",
       "      <td>5</td>\n",
       "      <td>8</td>\n",
       "      <td>23</td>\n",
       "      <td>101.0</td>\n",
       "      <td>1.0</td>\n",
       "      <td>NaN</td>\n",
       "      <td>17.0</td>\n",
       "      <td>1010.0</td>\n",
       "      <td>0.0</td>\n",
       "      <td>5.76</td>\n",
       "      <td>13.0</td>\n",
       "    </tr>\n",
       "    <tr>\n",
       "      <th>569</th>\n",
       "      <td>2014</td>\n",
       "      <td>5</td>\n",
       "      <td>8</td>\n",
       "      <td>23</td>\n",
       "      <td>101.0</td>\n",
       "      <td>1.0</td>\n",
       "      <td>NaN</td>\n",
       "      <td>17.0</td>\n",
       "      <td>1010.0</td>\n",
       "      <td>0.0</td>\n",
       "      <td>5.76</td>\n",
       "      <td>13.0</td>\n",
       "    </tr>\n",
       "    <tr>\n",
       "      <th>570</th>\n",
       "      <td>2014</td>\n",
       "      <td>5</td>\n",
       "      <td>8</td>\n",
       "      <td>23</td>\n",
       "      <td>101.0</td>\n",
       "      <td>1.0</td>\n",
       "      <td>NaN</td>\n",
       "      <td>17.0</td>\n",
       "      <td>1010.0</td>\n",
       "      <td>0.0</td>\n",
       "      <td>5.76</td>\n",
       "      <td>13.0</td>\n",
       "    </tr>\n",
       "    <tr>\n",
       "      <th>767</th>\n",
       "      <td>2014</td>\n",
       "      <td>5</td>\n",
       "      <td>11</td>\n",
       "      <td>1</td>\n",
       "      <td>101.0</td>\n",
       "      <td>1.0</td>\n",
       "      <td>5.0</td>\n",
       "      <td>NaN</td>\n",
       "      <td>NaN</td>\n",
       "      <td>NaN</td>\n",
       "      <td>NaN</td>\n",
       "      <td>14.0</td>\n",
       "    </tr>\n",
       "    <tr>\n",
       "      <th>768</th>\n",
       "      <td>2014</td>\n",
       "      <td>5</td>\n",
       "      <td>11</td>\n",
       "      <td>1</td>\n",
       "      <td>101.0</td>\n",
       "      <td>1.0</td>\n",
       "      <td>5.0</td>\n",
       "      <td>NaN</td>\n",
       "      <td>NaN</td>\n",
       "      <td>NaN</td>\n",
       "      <td>NaN</td>\n",
       "      <td>14.0</td>\n",
       "    </tr>\n",
       "    <tr>\n",
       "      <th>769</th>\n",
       "      <td>2014</td>\n",
       "      <td>5</td>\n",
       "      <td>11</td>\n",
       "      <td>1</td>\n",
       "      <td>101.0</td>\n",
       "      <td>1.0</td>\n",
       "      <td>5.0</td>\n",
       "      <td>NaN</td>\n",
       "      <td>NaN</td>\n",
       "      <td>NaN</td>\n",
       "      <td>NaN</td>\n",
       "      <td>14.0</td>\n",
       "    </tr>\n",
       "    <tr>\n",
       "      <th>770</th>\n",
       "      <td>2014</td>\n",
       "      <td>5</td>\n",
       "      <td>11</td>\n",
       "      <td>1</td>\n",
       "      <td>101.0</td>\n",
       "      <td>1.0</td>\n",
       "      <td>5.0</td>\n",
       "      <td>NaN</td>\n",
       "      <td>NaN</td>\n",
       "      <td>NaN</td>\n",
       "      <td>NaN</td>\n",
       "      <td>14.0</td>\n",
       "    </tr>\n",
       "    <tr>\n",
       "      <th>2402</th>\n",
       "      <td>2014</td>\n",
       "      <td>5</td>\n",
       "      <td>28</td>\n",
       "      <td>3</td>\n",
       "      <td>101.0</td>\n",
       "      <td>1.0</td>\n",
       "      <td>0.0</td>\n",
       "      <td>18.0</td>\n",
       "      <td>998.0</td>\n",
       "      <td>0.0</td>\n",
       "      <td>NaN</td>\n",
       "      <td>23.0</td>\n",
       "    </tr>\n",
       "    <tr>\n",
       "      <th>2403</th>\n",
       "      <td>2014</td>\n",
       "      <td>5</td>\n",
       "      <td>28</td>\n",
       "      <td>3</td>\n",
       "      <td>101.0</td>\n",
       "      <td>1.0</td>\n",
       "      <td>0.0</td>\n",
       "      <td>18.0</td>\n",
       "      <td>998.0</td>\n",
       "      <td>0.0</td>\n",
       "      <td>NaN</td>\n",
       "      <td>23.0</td>\n",
       "    </tr>\n",
       "  </tbody>\n",
       "</table>\n",
       "</div>"
      ],
      "text/plain": [
       "      year  month  day  hour  district_id  city_id  weather  temperature  \\\n",
       "567   2014      5    8    23        101.0      1.0      NaN         17.0   \n",
       "568   2014      5    8    23        101.0      1.0      NaN         17.0   \n",
       "569   2014      5    8    23        101.0      1.0      NaN         17.0   \n",
       "570   2014      5    8    23        101.0      1.0      NaN         17.0   \n",
       "767   2014      5   11     1        101.0      1.0      5.0          NaN   \n",
       "768   2014      5   11     1        101.0      1.0      5.0          NaN   \n",
       "769   2014      5   11     1        101.0      1.0      5.0          NaN   \n",
       "770   2014      5   11     1        101.0      1.0      5.0          NaN   \n",
       "2402  2014      5   28     3        101.0      1.0      0.0         18.0   \n",
       "2403  2014      5   28     3        101.0      1.0      0.0         18.0   \n",
       "\n",
       "      pressure  humidity  wind_speed  wind_direction  \n",
       "567     1010.0       0.0        5.76            13.0  \n",
       "568     1010.0       0.0        5.76            13.0  \n",
       "569     1010.0       0.0        5.76            13.0  \n",
       "570     1010.0       0.0        5.76            13.0  \n",
       "767        NaN       NaN         NaN            14.0  \n",
       "768        NaN       NaN         NaN            14.0  \n",
       "769        NaN       NaN         NaN            14.0  \n",
       "770        NaN       NaN         NaN            14.0  \n",
       "2402     998.0       0.0         NaN            23.0  \n",
       "2403     998.0       0.0         NaN            23.0  "
      ]
     },
     "execution_count": 16,
     "metadata": {},
     "output_type": "execute_result"
    }
   ],
   "source": [
    "df_null = final_df[train_columns][final_df[train_columns].isnull().any(axis=1)]\n",
    "df_null.head(10)"
   ]
  },
  {
   "cell_type": "markdown",
   "metadata": {},
   "source": [
    "## Trying simple logistic regression for district predictons \n",
    "\n",
    "1. Type 1 fill NaN with 0 to see how the things are performing \n",
    "2. Remove rows with NaN to see what's the impact "
   ]
  },
  {
   "cell_type": "code",
   "execution_count": 17,
   "metadata": {
    "collapsed": false
   },
   "outputs": [
    {
     "name": "stdout",
     "output_type": "stream",
     "text": [
      "3138583 784646\n",
      "\n",
      "Coefficients: \n",
      " [[  1.55762175e+01   1.95342076e+00   3.61902924e-01  -4.08455589e-02\n",
      "   -3.00181969e-03   4.02630014e-01   6.05173368e+00  -1.25332361e+00\n",
      "    1.05508650e-02  -1.28625801e-01  -1.24342638e+00   3.38018422e-01]\n",
      " [  3.11785805e+01   3.19151036e+00   8.54310039e-01   1.48112723e-01\n",
      "   -4.37922862e-03   6.83271037e-01   6.13580772e+00  -1.72573934e+00\n",
      "    1.82745120e-02  -4.01613308e-01  -1.26196311e+00   5.83732129e-01]\n",
      " [  1.08787849e+01   1.18864764e+00   1.25169012e-01   8.22818674e-02\n",
      "   -1.72090750e-03   2.00495632e-01   1.60837738e+00  -4.45439653e-01\n",
      "    6.26399725e-03  -1.39566818e-01  -8.54402669e-01   2.78894821e-02]\n",
      " [  2.72058864e-01   3.21491087e-02   3.54835191e-03  -2.03398816e-03\n",
      "   -5.31035231e-05   8.47634838e-03   7.30594100e-02  -2.54876667e-02\n",
      "    1.93238661e-04  -1.48823164e-03  -2.59591811e-02   5.22802501e-03]\n",
      " [ -2.54852732e+01  -3.16393803e+00   1.04676432e-01   1.19299399e+00\n",
      "   -1.72930895e-03   2.37901891e-01  -6.10994197e-02   6.37175657e-01\n",
      "   -1.50223595e-03  -4.34403267e-01   3.15685325e-01  -2.54277316e-02]\n",
      " [  1.08311385e+01   1.14653452e+00   9.39036506e-02   3.24637919e-02\n",
      "   -1.36610675e-03   3.07478421e-01   1.92112575e+00  -8.32452543e-01\n",
      "    1.05772433e-02  -1.50955409e-01  -5.58895252e-01   3.58045236e-01]]\n",
      "\n",
      "\n",
      "Mean squared error for \n",
      "PM25_Concentration    3747.773742\n",
      "PM10_Concentration    8490.278776\n",
      "NO2_Concentration      943.822836\n",
      "CO_Concentration         1.139687\n",
      "O3_Concentration      1997.176567\n",
      "SO2_Concentration     1708.400341\n",
      "dtype: float64\n",
      "\n",
      "Variance score: 0.16\n"
     ]
    }
   ],
   "source": [
    "df = final_df.fillna(0.0)\n",
    "train_df, test_df = train_test_split(df, test_size = 0.2)\n",
    "print(len(train_df) , len(test_df))\n",
    "\n",
    "# Create linear regression object\n",
    "regr = linear_model.LinearRegression()\n",
    "\n",
    "# Train the model using the training sets\n",
    "regr.fit(train_df[train_columns], train_df[train_y_pollution])\n",
    "\n",
    "# The coefficients\n",
    "print('\\nCoefficients: \\n', regr.coef_)\n",
    "# The mean squared error\n",
    "print(\"\\n\\nMean squared error for \" )\n",
    "print(np.mean((regr.predict(test_df[train_columns]) - test_df[train_y_pollution]) ** 2))\n",
    "# Explained variance score: 1 is perfect prediction\n",
    "print('\\nVariance score: %.2f' % regr.score(test_df[train_columns], test_df[train_y_pollution]))"
   ]
  },
  {
   "cell_type": "code",
   "execution_count": 18,
   "metadata": {
    "collapsed": false
   },
   "outputs": [
    {
     "name": "stdout",
     "output_type": "stream",
     "text": [
      "620164 155042\n",
      "\n",
      "Coefficients: \n",
      " [[ -3.13631059e+01  -2.58823606e+00   6.51987002e-01   4.15731465e-01\n",
      "    1.92387084e+00  -1.92187673e+02   7.27827135e+00  -1.93888325e+00\n",
      "    4.64978324e-01   2.54938670e-01  -1.79439918e+00   6.65270819e-01]\n",
      " [ -3.07091207e+01  -2.68853257e+00   1.61549086e+00   4.97979102e-01\n",
      "    3.33891188e+00  -3.33560400e+02   9.41107469e+00  -2.30279762e+00\n",
      "    5.74858671e-01  -1.19701773e-01  -1.51332596e+00   1.05024446e+00]\n",
      " [ -1.90927675e+01  -1.82316692e+00   1.74845515e-01   2.76665832e-01\n",
      "    3.01882933e-01  -3.01096139e+01   1.50057811e+00  -7.93003154e-01\n",
      "    2.49773999e-01   5.78236213e-02  -1.29612034e+00   1.16374588e-01]\n",
      " [ -7.02896832e-01  -6.71736398e-02   7.46311573e-03   2.25744082e-03\n",
      "    1.64354924e-02  -1.63910846e+00   8.89120612e-02  -4.28565084e-02\n",
      "    8.44715307e-03   3.65403677e-03  -3.70146230e-02   9.18426531e-03]\n",
      " [ -2.48547631e-01  -6.35947670e-01   8.35901572e-02   1.02029264e+00\n",
      "   -2.03622174e-02   2.01355880e+00  -2.72073244e-01   2.28517596e+00\n",
      "   -2.45229656e-01  -5.15423985e-01   7.46164370e-01  -6.96339472e-02]\n",
      " [ -1.44415045e+01  -1.43254779e+00   2.34783137e-01   2.53986402e-01\n",
      "    1.40952939e+00  -1.40468529e+02   2.79084388e+00  -1.51364243e+00\n",
      "    2.21622460e-01  -3.35861530e-01  -1.36048066e+00   2.55669269e-01]]\n",
      "\n",
      "\n",
      "Mean squared error for \n",
      "PM25_Concentration     4809.890401\n",
      "PM10_Concentration    11025.026315\n",
      "NO2_Concentration       862.102022\n",
      "CO_Concentration          1.497308\n",
      "O3_Concentration       1386.283132\n",
      "SO2_Concentration      2468.873384\n",
      "dtype: float64\n",
      "\n",
      "Variance score: 0.24\n"
     ]
    }
   ],
   "source": [
    "# Removing entries with NaN values in the regression model\n",
    "# Helped to impove scores\n",
    "df = final_df[~final_df.isnull().any(axis=1)]\n",
    "train_df, test_df = train_test_split(df, test_size = 0.2)\n",
    "print(len(train_df) , len(test_df))\n",
    "\n",
    "# Create linear regression object\n",
    "regr = linear_model.LinearRegression()\n",
    "\n",
    "# Train the model using the training sets\n",
    "regr.fit(train_df[train_columns], train_df[train_y_pollution])\n",
    "\n",
    "# The coefficients\n",
    "print('\\nCoefficients: \\n', regr.coef_)\n",
    "# The mean squared error\n",
    "print(\"\\n\\nMean squared error for \" )\n",
    "print(np.mean((regr.predict(test_df[train_columns]) - test_df[train_y_pollution]) ** 2))\n",
    "# Explained variance score: 1 is perfect prediction\n",
    "print('\\nVariance score: %.2f' % regr.score(test_df[train_columns], test_df[train_y_pollution]))"
   ]
  },
  {
   "cell_type": "markdown",
   "metadata": {},
   "source": [
    "#### Using averages to estimate values and rerunning the regressions on the dataframe"
   ]
  },
  {
   "cell_type": "code",
   "execution_count": 19,
   "metadata": {
    "collapsed": false
   },
   "outputs": [
    {
     "name": "stdout",
     "output_type": "stream",
     "text": [
      "With remove NaN's  775206\n",
      "Without removed Nan's  3923229\n",
      "Length of DF with merged  615432\n"
     ]
    }
   ],
   "source": [
    "merged_df = final_df.groupby(train_x_numerical).mean().reset_index()\n",
    "print (\"With remove NaN's \", len(final_df[~final_df.isnull().any(axis=1)]))\n",
    "print (\"Without removed Nan's \" , len(final_df))\n",
    "print (\"Length of DF with merged \", len(merged_df[~merged_df.isnull().any(axis=1)]))"
   ]
  },
  {
   "cell_type": "code",
   "execution_count": null,
   "metadata": {
    "collapsed": false
   },
   "outputs": [
    {
     "name": "stdout",
     "output_type": "stream",
     "text": [
      "492345 123087\n",
      "\n",
      "Coefficients: \n",
      " [[ -2.34720166e+01  -1.85358503e+00   6.69236614e-01   5.00045319e-01\n",
      "    1.98814226e+00  -1.98632152e+02   7.51921154e+00  -1.88465673e+00\n",
      "    4.81001362e-01   3.45029466e-01  -1.93290811e+00   6.93165372e-01]\n",
      " [ -1.36359616e+01  -9.84182529e-01   1.69317317e+00   5.80596590e-01\n",
      "    3.41563156e+00  -3.41245441e+02   9.70411918e+00  -2.13872590e+00\n",
      "    6.04701097e-01   8.85023101e-03  -1.69707222e+00   1.08451913e+00]\n",
      " [ -1.44276199e+01  -1.34097990e+00   1.74013692e-01   3.00520678e-01\n",
      "    3.31642651e-01  -3.30880200e+01   1.51417890e+00  -7.51069804e-01\n",
      "    2.44785452e-01   7.67495512e-02  -1.29168628e+00   9.31394581e-02]\n",
      " [ -6.70509605e-01  -6.56058163e-02   8.21627117e-03   2.10936181e-03\n",
      "    1.52391638e-02  -1.51961396e+00   9.21616445e-02  -4.40863313e-02\n",
      "    8.50710211e-03   3.69870907e-03  -3.93850432e-02   8.74141743e-03]\n",
      " [ -1.33604936e+00  -8.62172348e-01   4.63913904e-02   9.86585070e-01\n",
      "   -6.41941233e-02   6.40788682e+00  -2.50200245e-01   2.32614482e+00\n",
      "   -2.39306160e-01  -4.79130789e-01   8.19747040e-01  -2.27601028e-02]\n",
      " [ -1.49874173e+01  -1.56137376e+00   2.53176557e-01   3.17307372e-01\n",
      "    1.41690771e+00  -1.41202259e+02   2.86412822e+00  -1.56509734e+00\n",
      "    2.35824908e-01  -3.38238230e-01  -1.46809752e+00   2.55883254e-01]]\n",
      "\n",
      "\n",
      "Mean squared error for \n",
      "PM25_Concentration     5137.230946\n",
      "PM10_Concentration    11780.654771\n",
      "NO2_Concentration       798.352147\n",
      "CO_Concentration          1.611099\n",
      "O3_Concentration       1316.771572\n",
      "SO2_Concentration      2588.891581\n",
      "dtype: float64\n",
      "\n",
      "Variance score: 0.24\n"
     ]
    }
   ],
   "source": [
    "# Removing entries with NaN values in the regression model\n",
    "# Helped to impove scores\n",
    "df = merged_df[~merged_df.isnull().any(axis=1)].fillna(0.0)\n",
    "train_df, test_df = train_test_split(df, test_size = 0.2)\n",
    "print(len(train_df) , len(test_df))\n",
    "\n",
    "# Create linear regression object\n",
    "regr = linear_model.LinearRegression()\n",
    "\n",
    "# Train the model using the training sets\n",
    "regr.fit(train_df[train_columns], train_df[train_y_pollution])\n",
    "\n",
    "# The coefficients\n",
    "print('\\nCoefficients: \\n', regr.coef_)\n",
    "# The mean squared error\n",
    "print(\"\\n\\nMean squared error for \" )\n",
    "print(np.mean((regr.predict(test_df[train_columns]) - test_df[train_y_pollution]) ** 2))\n",
    "# Explained variance score: 1 is perfect prediction\n",
    "print('\\nVariance score: %.2f' % regr.score(test_df[train_columns], test_df[train_y_pollution]))"
   ]
  },
  {
   "cell_type": "markdown",
   "metadata": {
    "collapsed": false
   },
   "source": [
    "### Using a more complicated neural network based approach"
   ]
  },
  {
   "cell_type": "markdown",
   "metadata": {},
   "source": [
    "Multi-layer Perceptron is sensitive to feature scaling, so it is highly recommended to scale your data. For example, scale each attribute on the input vector X to `[0, 1]` or `[-1, +1]`, or standardize it to have mean `0` and variance `1`. Note that you must apply the same scaling to the test set for meaningful results. You can use StandardScaler for standardization.\n"
   ]
  },
  {
   "cell_type": "code",
   "execution_count": null,
   "metadata": {
    "collapsed": false
   },
   "outputs": [
    {
     "name": "stdout",
     "output_type": "stream",
     "text": [
      "Train / Test  492345 123087\n",
      "Training neural Network model might take some time\n"
     ]
    }
   ],
   "source": [
    "merged_df = final_df.groupby(train_x_numerical).mean().reset_index()\n",
    "mask = ~merged_df.isnull().any(axis=1)\n",
    "df = merged_df[mask]\n",
    "train_df, test_df = train_test_split(df, test_size = 0.2)\n",
    "\n",
    "X_train = train_df[train_columns]\n",
    "Y_train = train_df[train_y_pollution]\n",
    "\n",
    "X_test = train_df[train_columns]\n",
    "Y_test = train_df[train_y_pollution]\n",
    "\n",
    "scaler = StandardScaler()  \n",
    "scaler.fit(X_train)  \n",
    "X_train = scaler.transform(X_train)  \n",
    "X_test = scaler.transform(X_test)  \n",
    "\n",
    "regr = MLPRegressor()\n",
    "\n",
    "print('Train / Test ', len(train_df) , len(test_df))\n",
    "print('Training neural Network model might take some time')\n",
    "start = timeit.default_timer()\n",
    "regr.fit( X_train , Y_train)\n",
    "stop = timeit.default_timer()\n",
    "train_time = int(stop - start)\n",
    "print('Training finshed in ',train_time , 'seconds')\n",
    "print(\"\\n\\nMean squared error for \")\n",
    "print(np.mean((regr.predict(X_test) - Y_test) ** 2))\n",
    "print('\\nVariance score: %.2f' % regr.score(X_test, Y_test))"
   ]
  },
  {
   "cell_type": "code",
   "execution_count": null,
   "metadata": {
    "collapsed": true
   },
   "outputs": [],
   "source": [
    "# With more parmeters for processing \n",
    "\n",
    "regr = MLPRegressor(hidden_layer_sizes=(200, ) , max_iter=500)\n",
    "\n",
    "print('Train / Test ', len(train_df) , len(test_df))\n",
    "print('Training neural Network model might take some time')\n",
    "start = timeit.default_timer()\n",
    "regr.fit( X_train , Y_train)\n",
    "stop = timeit.default_timer()\n",
    "train_time = int(stop - start)\n",
    "print('Training finshed in ',train_time , 'seconds')\n",
    "print(\"\\n\\nMean squared error for \")\n",
    "print(np.mean((regr.predict(X_test) - Y_test) ** 2))\n",
    "print('\\nVariance score: %.2f' % regr.score(X_test, Y_test))"
   ]
  },
  {
   "cell_type": "markdown",
   "metadata": {},
   "source": [
    "We can see, using a simple neural network based classifier we can improve on the variance by a lot."
   ]
  },
  {
   "cell_type": "markdown",
   "metadata": {
    "collapsed": true
   },
   "source": [
    "### Running for all the data without merging the data."
   ]
  },
  {
   "cell_type": "code",
   "execution_count": null,
   "metadata": {
    "collapsed": false
   },
   "outputs": [],
   "source": [
    "df = final_df.fillna(-99)\n",
    "train_df, test_df = train_test_split(df, test_size = 0.2)\n",
    "\n",
    "print(len(train_df) , len(test_df))\n",
    "\n",
    "X_train = train_df[train_columns]\n",
    "Y_train = train_df[train_y_pollution]\n",
    "\n",
    "X_test = train_df[train_columns]\n",
    "Y_test = train_df[train_y_pollution]\n",
    "\n",
    "scaler = StandardScaler()\n",
    "scaler.fit(X_train)  \n",
    "X_train = scaler.transform(X_train)  \n",
    "X_test = scaler.transform(X_test)  \n",
    "\n",
    "regr = MLPRegressor(hidden_layer_sizes=(200, ) , max_iter=500)\n",
    "\n",
    "print(len(train_df) , len(test_df))\n",
    "print('Training neural Network model might take some time')\n",
    "start = timeit.default_timer()\n",
    "regr.fit( X_train , Y_train)\n",
    "stop = timeit.default_timer()\n",
    "train_time = int(stop - start)\n",
    "print('Training finshed in ',train_time , 'seconds')\n",
    "print(\"\\n\\nMean squared error for \")\n",
    "print(np.mean((regr.predict(X_test) - Y_test) ** 2))\n",
    "print('\\nVariance score: %.2f' % regr.score(X_test, Y_test))"
   ]
  },
  {
   "cell_type": "code",
   "execution_count": null,
   "metadata": {
    "collapsed": true
   },
   "outputs": [],
   "source": []
  },
  {
   "cell_type": "code",
   "execution_count": null,
   "metadata": {
    "collapsed": true
   },
   "outputs": [],
   "source": []
  }
 ],
 "metadata": {
  "anaconda-cloud": {},
  "kernelspec": {
   "display_name": "Python [default]",
   "language": "python",
   "name": "python3"
  },
  "language_info": {
   "codemirror_mode": {
    "name": "ipython",
    "version": 3
   },
   "file_extension": ".py",
   "mimetype": "text/x-python",
   "name": "python",
   "nbconvert_exporter": "python",
   "pygments_lexer": "ipython3",
   "version": "3.5.2"
  }
 },
 "nbformat": 4,
 "nbformat_minor": 1
}
