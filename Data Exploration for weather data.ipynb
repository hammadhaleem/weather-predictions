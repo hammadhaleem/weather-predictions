{
 "cells": [
  {
   "cell_type": "code",
   "execution_count": 23,
   "metadata": {
    "collapsed": false
   },
   "outputs": [],
   "source": [
    "%matplotlib inline\n",
    "from sklearn import datasets, linear_model\n",
    "import matplotlib.pyplot as plt\n",
    "import re\n",
    "import seaborn as sns\n",
    "\n",
    "import pandas as pd\n",
    "import numpy as np\n",
    "import datetime\n",
    "import pandas as pd"
   ]
  },
  {
   "cell_type": "code",
   "execution_count": 24,
   "metadata": {
    "collapsed": false
   },
   "outputs": [],
   "source": [
    "df_airquality = pd.DataFrame.from_csv('data/airquality.csv')\n",
    "df_district = pd.DataFrame.from_csv('data/district.csv')\n",
    "df_meteorology = pd.DataFrame.from_csv('data/meteorology.csv')\n",
    "df_station = pd.DataFrame.from_csv('data/station.csv')\n",
    "df_weatherforecast = pd.DataFrame.from_csv('data/weatherforecast.csv')"
   ]
  },
  {
   "cell_type": "code",
   "execution_count": 25,
   "metadata": {
    "collapsed": false,
    "scrolled": false
   },
   "outputs": [],
   "source": [
    "final_df = df_airquality.join(df_station)\n",
    "final_df = final_df.reset_index()\n",
    "final_df['station_id'] = final_df['\\ufeffstation_id']\n",
    "final_df = final_df.drop('\\ufeffstation_id',1)\n",
    "final_df = final_df.join(df_district, on=['district_id'],rsuffix='_district')"
   ]
  },
  {
   "cell_type": "code",
   "execution_count": 26,
   "metadata": {
    "collapsed": false
   },
   "outputs": [],
   "source": [
    "df_city = pd.DataFrame.from_csv('data/city.csv')\n",
    "df_city = df_city.reset_index()\n",
    "\n",
    "df_city['city_id'] = df_city['\\ufeffcity_id']\n",
    "df_city['latitude_city']= df_city['longitude']\n",
    "df_city['longitude_city']= df_city['longitude']\n",
    "\n",
    "df_city = df_city.drop('latitude',1)\n",
    "df_city = df_city.drop('longitude',1)\n",
    "\n",
    "df_city = df_city.drop('\\ufeffcity_id',1)\n",
    "df_city['city_id'] = df_city.city_id.apply(lambda x : int(x))\n",
    "final_df = pd.merge(final_df, right=df_city,on=['city_id'],how='left')\n"
   ]
  },
  {
   "cell_type": "code",
   "execution_count": 27,
   "metadata": {
    "collapsed": false
   },
   "outputs": [],
   "source": [
    "final_df = final_df.drop('name_chinese_x',1)\n",
    "final_df = final_df.drop('name_chinese_district',1)\n",
    "final_df = final_df.drop('name_chinese_y',1)\n",
    "final_df = final_df.drop('name_english_y',1)"
   ]
  },
  {
   "cell_type": "code",
   "execution_count": 28,
   "metadata": {
    "collapsed": false
   },
   "outputs": [],
   "source": [
    "df_meteorology = df_meteorology.reset_index()\n",
    "df_meteorology['id'] = df_meteorology['\\ufeffid']\n",
    "df_meteorology = df_meteorology.drop('\\ufeffid',1)"
   ]
  },
  {
   "cell_type": "code",
   "execution_count": 29,
   "metadata": {
    "collapsed": false
   },
   "outputs": [],
   "source": [
    "df_meteorology['district_id'] = df_meteorology['id']\n",
    "df_meteorology = df_meteorology.drop('id',1)\n",
    "final_df = pd.merge(final_df, right=df_meteorology,on=['district_id','time'],how='left')"
   ]
  },
  {
   "cell_type": "code",
   "execution_count": 30,
   "metadata": {
    "collapsed": false
   },
   "outputs": [
    {
     "data": {
      "text/plain": [
       "Index(['time', 'PM25_Concentration', 'PM10_Concentration', 'NO2_Concentration',\n",
       "       'CO_Concentration', 'O3_Concentration', 'SO2_Concentration',\n",
       "       'name_english_x', 'latitude', 'longitude', 'district_id', 'station_id',\n",
       "       'name_english_district', 'city_id', 'cluster_id', 'latitude_city',\n",
       "       'longitude_city', 'weather', 'temperature', 'pressure', 'humidity',\n",
       "       'wind_speed', 'wind_direction'],\n",
       "      dtype='object')"
      ]
     },
     "execution_count": 30,
     "metadata": {},
     "output_type": "execute_result"
    }
   ],
   "source": [
    "final_df.columns"
   ]
  },
  {
   "cell_type": "code",
   "execution_count": null,
   "metadata": {
    "collapsed": true
   },
   "outputs": [],
   "source": []
  },
  {
   "cell_type": "code",
   "execution_count": 31,
   "metadata": {
    "collapsed": false
   },
   "outputs": [],
   "source": [
    "final_df.to_csv('final_dataframe.csv')"
   ]
  },
  {
   "cell_type": "code",
   "execution_count": 2,
   "metadata": {
    "collapsed": true
   },
   "outputs": [],
   "source": [
    "final_df = pd.DataFrame.from_csv('final_dataframe.csv')\n",
    "final_df['time'] = final_df.time.apply(lambda x : datetime.datetime.strptime(str(x),'%Y-%m-%d %H:%M:%S'))"
   ]
  },
  {
   "cell_type": "code",
   "execution_count": 17,
   "metadata": {
    "collapsed": false
   },
   "outputs": [
    {
     "data": {
      "text/plain": [
       "Index(['time', 'PM25_Concentration', 'PM10_Concentration', 'NO2_Concentration',\n",
       "       'CO_Concentration', 'O3_Concentration', 'SO2_Concentration',\n",
       "       'name_english_x', 'latitude', 'longitude', 'district_id', 'station_id',\n",
       "       'name_english_district', 'city_id', 'cluster_id', 'latitude_city',\n",
       "       'longitude_city', 'weather', 'temperature', 'pressure', 'humidity',\n",
       "       'wind_speed', 'wind_direction'],\n",
       "      dtype='object')"
      ]
     },
     "execution_count": 17,
     "metadata": {},
     "output_type": "execute_result"
    }
   ],
   "source": [
    "final_df.columns"
   ]
  },
  {
   "cell_type": "code",
   "execution_count": 18,
   "metadata": {
    "collapsed": false,
    "scrolled": true
   },
   "outputs": [
    {
     "data": {
      "text/html": [
       "<div>\n",
       "<table border=\"1\" class=\"dataframe\">\n",
       "  <thead>\n",
       "    <tr style=\"text-align: right;\">\n",
       "      <th></th>\n",
       "      <th>time</th>\n",
       "      <th>PM25_Concentration</th>\n",
       "      <th>PM10_Concentration</th>\n",
       "      <th>NO2_Concentration</th>\n",
       "      <th>CO_Concentration</th>\n",
       "      <th>O3_Concentration</th>\n",
       "      <th>SO2_Concentration</th>\n",
       "      <th>name_english_x</th>\n",
       "      <th>latitude</th>\n",
       "      <th>longitude</th>\n",
       "      <th>...</th>\n",
       "      <th>city_id</th>\n",
       "      <th>cluster_id</th>\n",
       "      <th>latitude_city</th>\n",
       "      <th>longitude_city</th>\n",
       "      <th>weather</th>\n",
       "      <th>temperature</th>\n",
       "      <th>pressure</th>\n",
       "      <th>humidity</th>\n",
       "      <th>wind_speed</th>\n",
       "      <th>wind_direction</th>\n",
       "    </tr>\n",
       "  </thead>\n",
       "  <tbody>\n",
       "    <tr>\n",
       "      <th>0</th>\n",
       "      <td>2014-05-01 00:00:00</td>\n",
       "      <td>138.0</td>\n",
       "      <td>159.4</td>\n",
       "      <td>56.3</td>\n",
       "      <td>0.9</td>\n",
       "      <td>50.8</td>\n",
       "      <td>17.2</td>\n",
       "      <td>HaiDianBeiBuXinQu</td>\n",
       "      <td>40.090679</td>\n",
       "      <td>116.173553</td>\n",
       "      <td>...</td>\n",
       "      <td>1</td>\n",
       "      <td>1</td>\n",
       "      <td>116.407394</td>\n",
       "      <td>116.407394</td>\n",
       "      <td>0.0</td>\n",
       "      <td>20.0</td>\n",
       "      <td>1004.0</td>\n",
       "      <td>56.0</td>\n",
       "      <td>7.92</td>\n",
       "      <td>13.0</td>\n",
       "    </tr>\n",
       "    <tr>\n",
       "      <th>1</th>\n",
       "      <td>2014-05-01 01:00:00</td>\n",
       "      <td>124.0</td>\n",
       "      <td>163.9</td>\n",
       "      <td>38.7</td>\n",
       "      <td>0.9</td>\n",
       "      <td>51.1</td>\n",
       "      <td>17.9</td>\n",
       "      <td>HaiDianBeiBuXinQu</td>\n",
       "      <td>40.090679</td>\n",
       "      <td>116.173553</td>\n",
       "      <td>...</td>\n",
       "      <td>1</td>\n",
       "      <td>1</td>\n",
       "      <td>116.407394</td>\n",
       "      <td>116.407394</td>\n",
       "      <td>0.0</td>\n",
       "      <td>18.0</td>\n",
       "      <td>1004.0</td>\n",
       "      <td>64.0</td>\n",
       "      <td>7.56</td>\n",
       "      <td>13.0</td>\n",
       "    </tr>\n",
       "    <tr>\n",
       "      <th>2</th>\n",
       "      <td>2014-05-01 02:00:00</td>\n",
       "      <td>127.0</td>\n",
       "      <td>148.4</td>\n",
       "      <td>55.6</td>\n",
       "      <td>1.0</td>\n",
       "      <td>27.2</td>\n",
       "      <td>16.6</td>\n",
       "      <td>HaiDianBeiBuXinQu</td>\n",
       "      <td>40.090679</td>\n",
       "      <td>116.173553</td>\n",
       "      <td>...</td>\n",
       "      <td>1</td>\n",
       "      <td>1</td>\n",
       "      <td>116.407394</td>\n",
       "      <td>116.407394</td>\n",
       "      <td>0.0</td>\n",
       "      <td>18.0</td>\n",
       "      <td>1004.0</td>\n",
       "      <td>70.0</td>\n",
       "      <td>5.76</td>\n",
       "      <td>13.0</td>\n",
       "    </tr>\n",
       "    <tr>\n",
       "      <th>3</th>\n",
       "      <td>2014-05-01 03:00:00</td>\n",
       "      <td>129.0</td>\n",
       "      <td>145.6</td>\n",
       "      <td>65.7</td>\n",
       "      <td>1.0</td>\n",
       "      <td>9.7</td>\n",
       "      <td>16.7</td>\n",
       "      <td>HaiDianBeiBuXinQu</td>\n",
       "      <td>40.090679</td>\n",
       "      <td>116.173553</td>\n",
       "      <td>...</td>\n",
       "      <td>1</td>\n",
       "      <td>1</td>\n",
       "      <td>116.407394</td>\n",
       "      <td>116.407394</td>\n",
       "      <td>0.0</td>\n",
       "      <td>17.0</td>\n",
       "      <td>1004.0</td>\n",
       "      <td>74.0</td>\n",
       "      <td>6.12</td>\n",
       "      <td>13.0</td>\n",
       "    </tr>\n",
       "    <tr>\n",
       "      <th>4</th>\n",
       "      <td>2014-05-01 04:00:00</td>\n",
       "      <td>119.0</td>\n",
       "      <td>119.3</td>\n",
       "      <td>66.9</td>\n",
       "      <td>1.0</td>\n",
       "      <td>2.0</td>\n",
       "      <td>16.5</td>\n",
       "      <td>HaiDianBeiBuXinQu</td>\n",
       "      <td>40.090679</td>\n",
       "      <td>116.173553</td>\n",
       "      <td>...</td>\n",
       "      <td>1</td>\n",
       "      <td>1</td>\n",
       "      <td>116.407394</td>\n",
       "      <td>116.407394</td>\n",
       "      <td>0.0</td>\n",
       "      <td>17.0</td>\n",
       "      <td>1004.0</td>\n",
       "      <td>75.0</td>\n",
       "      <td>4.68</td>\n",
       "      <td>1.0</td>\n",
       "    </tr>\n",
       "  </tbody>\n",
       "</table>\n",
       "<p>5 rows × 23 columns</p>\n",
       "</div>"
      ],
      "text/plain": [
       "                 time  PM25_Concentration  PM10_Concentration  \\\n",
       "0 2014-05-01 00:00:00               138.0               159.4   \n",
       "1 2014-05-01 01:00:00               124.0               163.9   \n",
       "2 2014-05-01 02:00:00               127.0               148.4   \n",
       "3 2014-05-01 03:00:00               129.0               145.6   \n",
       "4 2014-05-01 04:00:00               119.0               119.3   \n",
       "\n",
       "   NO2_Concentration  CO_Concentration  O3_Concentration  SO2_Concentration  \\\n",
       "0               56.3               0.9              50.8               17.2   \n",
       "1               38.7               0.9              51.1               17.9   \n",
       "2               55.6               1.0              27.2               16.6   \n",
       "3               65.7               1.0               9.7               16.7   \n",
       "4               66.9               1.0               2.0               16.5   \n",
       "\n",
       "      name_english_x   latitude   longitude       ...        city_id  \\\n",
       "0  HaiDianBeiBuXinQu  40.090679  116.173553       ...              1   \n",
       "1  HaiDianBeiBuXinQu  40.090679  116.173553       ...              1   \n",
       "2  HaiDianBeiBuXinQu  40.090679  116.173553       ...              1   \n",
       "3  HaiDianBeiBuXinQu  40.090679  116.173553       ...              1   \n",
       "4  HaiDianBeiBuXinQu  40.090679  116.173553       ...              1   \n",
       "\n",
       "   cluster_id latitude_city  longitude_city  weather  temperature  pressure  \\\n",
       "0           1    116.407394      116.407394      0.0         20.0    1004.0   \n",
       "1           1    116.407394      116.407394      0.0         18.0    1004.0   \n",
       "2           1    116.407394      116.407394      0.0         18.0    1004.0   \n",
       "3           1    116.407394      116.407394      0.0         17.0    1004.0   \n",
       "4           1    116.407394      116.407394      0.0         17.0    1004.0   \n",
       "\n",
       "   humidity  wind_speed  wind_direction  \n",
       "0      56.0        7.92            13.0  \n",
       "1      64.0        7.56            13.0  \n",
       "2      70.0        5.76            13.0  \n",
       "3      74.0        6.12            13.0  \n",
       "4      75.0        4.68             1.0  \n",
       "\n",
       "[5 rows x 23 columns]"
      ]
     },
     "execution_count": 18,
     "metadata": {},
     "output_type": "execute_result"
    }
   ],
   "source": [
    "final_df.head()"
   ]
  },
  {
   "cell_type": "markdown",
   "metadata": {},
   "source": [
    "### Trying simple logistic regression for district predictons "
   ]
  },
  {
   "cell_type": "code",
   "execution_count": 19,
   "metadata": {
    "collapsed": false
   },
   "outputs": [],
   "source": [
    "train_x = ['time',  'name_english_x', 'latitude', 'longitude', 'district_id', 'station_id', 'name_english_district', 'city_id', 'cluster_id', 'latitude_city', 'longitude_city']           \n",
    "train_y_pollution = ['PM25_Concentration', 'PM10_Concentration', 'NO2_Concentration', 'CO_Concentration', 'O3_Concentration', 'SO2_Concentration']\n",
    "train_y_weather = ['weather', 'temperature', 'pressure', 'humidity','wind_speed', 'wind_direction']"
   ]
  },
  {
   "cell_type": "code",
   "execution_count": 9,
   "metadata": {
    "collapsed": false
   },
   "outputs": [
    {
     "name": "stdout",
     "output_type": "stream",
     "text": [
      "<class 'pandas.core.frame.DataFrame'>\n",
      "Int64Index: 2891393 entries, 0 to 2891392\n",
      "Data columns (total 1 columns):\n",
      "time    datetime64[ns]\n",
      "dtypes: datetime64[ns](1)\n",
      "memory usage: 44.1 MB\n"
     ]
    }
   ],
   "source": [
    "final_df[['time']].info()"
   ]
  },
  {
   "cell_type": "code",
   "execution_count": 12,
   "metadata": {
    "collapsed": false
   },
   "outputs": [
    {
     "name": "stdout",
     "output_type": "stream",
     "text": [
      "2015-02-03 05:00:00\n"
     ]
    }
   ],
   "source": [
    "partition = int(len(final_df.time) / 2)\n",
    "time = final_df.time[partition]\n",
    "print(time)"
   ]
  },
  {
   "cell_type": "code",
   "execution_count": 13,
   "metadata": {
    "collapsed": true
   },
   "outputs": [],
   "source": [
    "df_test = final_df[final_df.time > time ]\n",
    "df_train = final_df[final_df.time <= time ]"
   ]
  },
  {
   "cell_type": "code",
   "execution_count": 22,
   "metadata": {
    "collapsed": false
   },
   "outputs": [],
   "source": [
    "# Create linear regression object\n",
    "regr = linear_model.LinearRegression()\n",
    "\n",
    "# Train the model using the training sets\n",
    "regr.fit(df_train[train_x], df_train[train_y_pollution])"
   ]
  },
  {
   "cell_type": "code",
   "execution_count": 21,
   "metadata": {
    "collapsed": false
   },
   "outputs": [],
   "source": [
    "\n",
    "# The coefficients\n",
    "print('Coefficients: \\n', regr.coef_)\n",
    "# The mean squared error\n",
    "print(\"Mean squared error: %.2f\"\n",
    "      % np.mean((regr.predict(diabetes_X_test) - diabetes_y_test) ** 2))\n",
    "# Explained variance score: 1 is perfect prediction\n",
    "print('Variance score: %.2f' % regr.score(diabetes_X_test, diabetes_y_test))\n",
    "\n",
    "# Plot outputs\n",
    "plt.scatter(diabetes_X_test, diabetes_y_test,  color='black')\n",
    "plt.plot(diabetes_X_test, regr.predict(diabetes_X_test), color='blue',\n",
    "         linewidth=3)\n",
    "\n",
    "plt.xticks(())\n",
    "plt.yticks(())\n",
    "\n",
    "plt.show()"
   ]
  },
  {
   "cell_type": "code",
   "execution_count": null,
   "metadata": {
    "collapsed": true
   },
   "outputs": [],
   "source": []
  }
 ],
 "metadata": {
  "anaconda-cloud": {},
  "kernelspec": {
   "display_name": "Python [conda root]",
   "language": "python",
   "name": "conda-root-py"
  },
  "language_info": {
   "codemirror_mode": {
    "name": "ipython",
    "version": 3
   },
   "file_extension": ".py",
   "mimetype": "text/x-python",
   "name": "python",
   "nbconvert_exporter": "python",
   "pygments_lexer": "ipython3",
   "version": "3.5.2"
  }
 },
 "nbformat": 4,
 "nbformat_minor": 1
}
