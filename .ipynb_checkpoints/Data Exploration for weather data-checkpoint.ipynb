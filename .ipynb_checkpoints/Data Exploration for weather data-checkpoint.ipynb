{
 "cells": [
  {
   "cell_type": "code",
   "execution_count": 1,
   "metadata": {
    "collapsed": false
   },
   "outputs": [],
   "source": [
    "%matplotlib inline\n",
    "from sklearn import datasets, linear_model\n",
    "import matplotlib.pyplot as plt\n",
    "import re\n",
    "import seaborn as sns\n",
    "\n",
    "import pandas as pd\n",
    "import numpy as np\n",
    "import datetime\n",
    "import pandas as pd"
   ]
  },
  {
   "cell_type": "code",
   "execution_count": 2,
   "metadata": {
    "collapsed": false
   },
   "outputs": [],
   "source": [
    "df_airquality = pd.DataFrame.from_csv('data/airquality.csv')\n",
    "df_district = pd.DataFrame.from_csv('data/district.csv')\n",
    "df_meteorology = pd.DataFrame.from_csv('data/meteorology.csv')\n",
    "df_station = pd.DataFrame.from_csv('data/station.csv')\n",
    "df_weatherforecast = pd.DataFrame.from_csv('data/weatherforecast.csv')"
   ]
  },
  {
   "cell_type": "code",
   "execution_count": 3,
   "metadata": {
    "collapsed": false,
    "scrolled": false
   },
   "outputs": [],
   "source": [
    "final_df = df_airquality.join(df_station)\n",
    "final_df = final_df.reset_index()\n",
    "final_df['station_id'] = final_df['\\ufeffstation_id']\n",
    "final_df = final_df.drop('\\ufeffstation_id',1)\n",
    "final_df = final_df.join(df_district, on=['district_id'],rsuffix='_district')"
   ]
  },
  {
   "cell_type": "code",
   "execution_count": 4,
   "metadata": {
    "collapsed": false
   },
   "outputs": [],
   "source": [
    "df_city = pd.DataFrame.from_csv('data/city.csv')\n",
    "df_city = df_city.reset_index()\n",
    "\n",
    "df_city['city_id'] = df_city['\\ufeffcity_id']\n",
    "df_city['latitude_city']= df_city['longitude']\n",
    "df_city['longitude_city']= df_city['longitude']\n",
    "\n",
    "df_city = df_city.drop('latitude',1)\n",
    "df_city = df_city.drop('longitude',1)\n",
    "\n",
    "df_city = df_city.drop('\\ufeffcity_id',1)\n",
    "df_city['city_id'] = df_city.city_id.apply(lambda x : int(x))\n",
    "final_df = pd.merge(final_df, right=df_city,on=['city_id'],how='left')\n"
   ]
  },
  {
   "cell_type": "code",
   "execution_count": 5,
   "metadata": {
    "collapsed": false
   },
   "outputs": [],
   "source": [
    "final_df = final_df.drop('name_chinese_x',1)\n",
    "final_df = final_df.drop('name_chinese_district',1)\n",
    "final_df = final_df.drop('name_chinese_y',1)\n",
    "final_df = final_df.drop('name_english_y',1)"
   ]
  },
  {
   "cell_type": "code",
   "execution_count": 6,
   "metadata": {
    "collapsed": false
   },
   "outputs": [],
   "source": [
    "df_meteorology = df_meteorology.reset_index()\n",
    "df_meteorology['id'] = df_meteorology['\\ufeffid']\n",
    "df_meteorology = df_meteorology.drop('\\ufeffid',1)"
   ]
  },
  {
   "cell_type": "code",
   "execution_count": null,
   "metadata": {
    "collapsed": false
   },
   "outputs": [],
   "source": [
    "df_meteorology['district_id'] = df_meteorology['id']\n",
    "df_meteorology = df_meteorology.drop('id',1)\n",
    "final_df = pd.merge(final_df, right=df_meteorology,on=['district_id','time'],how='left')"
   ]
  },
  {
   "cell_type": "code",
   "execution_count": null,
   "metadata": {
    "collapsed": false
   },
   "outputs": [],
   "source": [
    "final_df['latitude_city']  = final_df['latitude_city'].apply(lambda x : str(x))\n",
    "final_df['longitude_city']  = final_df['longitude_city'].apply(lambda x : str(x))\n",
    "\n",
    "final_df['latitude']  = final_df['latitude'].apply(lambda x : str(x))\n",
    "final_df['longitude']  = final_df['longitude'].apply(lambda x : str(x))\n",
    "\n",
    "final_df['lat-lon-city'] = final_df['latitude_city'] + ' ' + final_df['longitude_city']\n",
    "final_df['lat-lon-district'] = final_df['latitude'] + ' ' + final_df['longitude']"
   ]
  },
  {
   "cell_type": "code",
   "execution_count": null,
   "metadata": {
    "collapsed": true
   },
   "outputs": [],
   "source": [
    "final_df = final_df.drop('latitude_city',1)\n",
    "final_df = final_df.drop('longitude_city',1)\n",
    "\n",
    "final_df = final_df.drop('latitude',1)\n",
    "final_df = final_df.drop('longitude',1)"
   ]
  },
  {
   "cell_type": "code",
   "execution_count": null,
   "metadata": {
    "collapsed": false
   },
   "outputs": [],
   "source": [
    "final_df.info()"
   ]
  },
  {
   "cell_type": "code",
   "execution_count": null,
   "metadata": {
    "collapsed": false
   },
   "outputs": [],
   "source": [
    "# Save it to a temporary data frame \n",
    "final_df.to_csv('data/final_dataframe.csv')"
   ]
  },
  {
   "cell_type": "code",
   "execution_count": null,
   "metadata": {
    "collapsed": true
   },
   "outputs": [],
   "source": [
    "final_df = pd.DataFrame.from_csv('final_dataframe.csv')\n",
    "final_df['time'] = final_df.time.apply(lambda x : datetime.datetime.strptime(str(x),'%Y-%m-%d %H:%M:%S'))"
   ]
  },
  {
   "cell_type": "code",
   "execution_count": null,
   "metadata": {
    "collapsed": false
   },
   "outputs": [],
   "source": [
    "final_df.columns"
   ]
  },
  {
   "cell_type": "code",
   "execution_count": null,
   "metadata": {
    "collapsed": false,
    "scrolled": true
   },
   "outputs": [],
   "source": [
    "final_df.head()"
   ]
  },
  {
   "cell_type": "markdown",
   "metadata": {},
   "source": [
    "### Trying simple logistic regression for district predictons "
   ]
  },
  {
   "cell_type": "code",
   "execution_count": null,
   "metadata": {
    "collapsed": false
   },
   "outputs": [],
   "source": [
    "train_x = ['time',  'name_english_x', 'latitude', 'longitude', 'district_id', 'station_id', 'name_english_district', 'city_id', 'cluster_id', 'latitude_city', 'longitude_city']           \n",
    "train_y_pollution = ['PM25_Concentration', 'PM10_Concentration', 'NO2_Concentration', 'CO_Concentration', 'O3_Concentration', 'SO2_Concentration']\n",
    "train_y_weather = ['weather', 'temperature', 'pressure', 'humidity','wind_speed', 'wind_direction']"
   ]
  },
  {
   "cell_type": "code",
   "execution_count": null,
   "metadata": {
    "collapsed": false
   },
   "outputs": [],
   "source": [
    "final_df[['time']].info()"
   ]
  },
  {
   "cell_type": "code",
   "execution_count": null,
   "metadata": {
    "collapsed": false
   },
   "outputs": [],
   "source": [
    "partition = int(len(final_df.time) / 2)\n",
    "time = final_df.time[partition]\n",
    "print(time)"
   ]
  },
  {
   "cell_type": "code",
   "execution_count": null,
   "metadata": {
    "collapsed": true
   },
   "outputs": [],
   "source": [
    "df_test = final_df[final_df.time > time ]\n",
    "df_train = final_df[final_df.time <= time ]"
   ]
  },
  {
   "cell_type": "code",
   "execution_count": null,
   "metadata": {
    "collapsed": false
   },
   "outputs": [],
   "source": [
    "# Create linear regression object\n",
    "regr = linear_model.LinearRegression()\n",
    "\n",
    "# Train the model using the training sets\n",
    "regr.fit(df_train[train_x], df_train[train_y_pollution])"
   ]
  },
  {
   "cell_type": "code",
   "execution_count": null,
   "metadata": {
    "collapsed": false
   },
   "outputs": [],
   "source": [
    "\n",
    "# The coefficients\n",
    "print('Coefficients: \\n', regr.coef_)\n",
    "# The mean squared error\n",
    "print(\"Mean squared error: %.2f\"\n",
    "      % np.mean((regr.predict(diabetes_X_test) - diabetes_y_test) ** 2))\n",
    "# Explained variance score: 1 is perfect prediction\n",
    "print('Variance score: %.2f' % regr.score(diabetes_X_test, diabetes_y_test))\n",
    "\n",
    "# Plot outputs\n",
    "plt.scatter(diabetes_X_test, diabetes_y_test,  color='black')\n",
    "plt.plot(diabetes_X_test, regr.predict(diabetes_X_test), color='blue',\n",
    "         linewidth=3)\n",
    "\n",
    "plt.xticks(())\n",
    "plt.yticks(())\n",
    "\n",
    "plt.show()"
   ]
  },
  {
   "cell_type": "code",
   "execution_count": null,
   "metadata": {
    "collapsed": true
   },
   "outputs": [],
   "source": []
  }
 ],
 "metadata": {
  "anaconda-cloud": {},
  "kernelspec": {
   "display_name": "Python [default]",
   "language": "python",
   "name": "python3"
  },
  "language_info": {
   "codemirror_mode": {
    "name": "ipython",
    "version": 3
   },
   "file_extension": ".py",
   "mimetype": "text/x-python",
   "name": "python",
   "nbconvert_exporter": "python",
   "pygments_lexer": "ipython3",
   "version": "3.5.2"
  }
 },
 "nbformat": 4,
 "nbformat_minor": 1
}
